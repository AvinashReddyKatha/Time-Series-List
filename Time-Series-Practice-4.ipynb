{
 "cells": [
  {
   "cell_type": "code",
   "execution_count": 2,
   "id": "35baf934",
   "metadata": {},
   "outputs": [
    {
     "data": {
      "text/plain": [
       "DatetimeIndex(['2024-01-05', '2024-01-05', '2024-01-05', '2024-01-05',\n",
       "               '2024-01-05'],\n",
       "              dtype='datetime64[ns]', freq=None)"
      ]
     },
     "execution_count": 2,
     "metadata": {},
     "output_type": "execute_result"
    }
   ],
   "source": [
    "import pandas as pd\n",
    "\n",
    "#These are the various kind of dates which will change to the particular type by using \"to_datetime\"\n",
    "\n",
    "dates=['2024-01-05','Jan 5,2024','01/05/2024','2024.01.05','2024.01.05']\n",
    "\n",
    "pd.to_datetime(dates)"
   ]
  },
  {
   "cell_type": "code",
   "execution_count": 3,
   "id": "519b3f3f",
   "metadata": {},
   "outputs": [
    {
     "data": {
      "text/plain": [
       "DatetimeIndex(['2024-01-05 14:30:00', '2024-02-05 14:30:00',\n",
       "               '2016-01-05 00:00:00', '2023-01-05 00:00:00',\n",
       "               '2025-01-05 00:00:00', '2014-01-05 00:00:00'],\n",
       "              dtype='datetime64[ns]', freq=None)"
      ]
     },
     "execution_count": 3,
     "metadata": {},
     "output_type": "execute_result"
    }
   ],
   "source": [
    "dt = ['2024-01-05 2:30:00 PM', 'Feb 5, 2024 14:30:00', '01/05/2016', '2023.01.05', '2025/01/05','20140105']\n",
    "pd.to_datetime(dt)"
   ]
  },
  {
   "cell_type": "markdown",
   "id": "d28a6917",
   "metadata": {},
   "source": [
    "# Custom date"
   ]
  },
  {
   "cell_type": "code",
   "execution_count": 14,
   "id": "3e81473a",
   "metadata": {},
   "outputs": [
    {
     "data": {
      "text/plain": [
       "Timestamp('2017-01-05 00:00:00')"
      ]
     },
     "execution_count": 14,
     "metadata": {},
     "output_type": "execute_result"
    }
   ],
   "source": [
    "pd.to_datetime('2017$01$05', format='%Y$%m$%d')\n",
    "\n"
   ]
  },
  {
   "cell_type": "code",
   "execution_count": 10,
   "id": "bef45a28",
   "metadata": {},
   "outputs": [
    {
     "data": {
      "text/plain": [
       "DatetimeIndex(['2017-01-05'], dtype='datetime64[ns]', freq=None)"
      ]
     },
     "execution_count": 10,
     "metadata": {},
     "output_type": "execute_result"
    }
   ],
   "source": [
    "\n",
    "date_strings = ['2017$01$05']\n",
    "\n",
    "dates = pd.to_datetime(date_strings, format='%Y$%m$%d')\n",
    "dates"
   ]
  },
  {
   "cell_type": "code",
   "execution_count": 18,
   "id": "72f03197",
   "metadata": {},
   "outputs": [
    {
     "data": {
      "text/plain": [
       "Timestamp('2017-01-05 00:00:00')"
      ]
     },
     "execution_count": 18,
     "metadata": {},
     "output_type": "execute_result"
    }
   ],
   "source": [
    "pd.to_datetime('2017*01*05', format='%Y*%m*%d')\n"
   ]
  },
  {
   "cell_type": "markdown",
   "id": "69af7cf8",
   "metadata": {},
   "source": [
    "# Invalid syntax"
   ]
  },
  {
   "cell_type": "code",
   "execution_count": 19,
   "id": "ad5c5f96",
   "metadata": {},
   "outputs": [
    {
     "data": {
      "text/plain": [
       "Index(['2017-01-05', 'Jan 6, 2017', 'abc'], dtype='object')"
      ]
     },
     "execution_count": 19,
     "metadata": {},
     "output_type": "execute_result"
    }
   ],
   "source": [
    "pd.to_datetime(['2017-01-05', 'Jan 6, 2017', 'abc'], errors='ignore')\n",
    "\n"
   ]
  },
  {
   "cell_type": "code",
   "execution_count": 21,
   "id": "29912763",
   "metadata": {},
   "outputs": [
    {
     "data": {
      "text/plain": [
       "DatetimeIndex(['2017-01-05', '2017-01-06', 'NaT'], dtype='datetime64[ns]', freq=None)"
      ]
     },
     "execution_count": 21,
     "metadata": {},
     "output_type": "execute_result"
    }
   ],
   "source": [
    "pd.to_datetime(['2017-01-05', 'Jan 6, 2017', 'abc'], errors='coerce')\n",
    "\n",
    "#\"coerce\" is used to handle the pasrsing errors by attempts to \"Not a time\" instead of rasing eorr"
   ]
  },
  {
   "cell_type": "code",
   "execution_count": null,
   "id": "d959eac5",
   "metadata": {},
   "outputs": [],
   "source": []
  },
  {
   "cell_type": "markdown",
   "id": "4bded1da",
   "metadata": {},
   "source": [
    "# Epoch"
   ]
  },
  {
   "cell_type": "code",
   "execution_count": 22,
   "id": "a2008f72",
   "metadata": {},
   "outputs": [],
   "source": [
    "#Epoch is defined as the Epoch or Unix time means number of seconds that have passed since Jan 1 1970 00:00: UTC time\n",
    "\n",
    "#Epoch time represents time as the number of seconds that have passed since the Unix Epoch.\n",
    "\n",
    "#For this the reference date and time is January 1, 1970 at 00:00:00 UTC"
   ]
  },
  {
   "cell_type": "code",
   "execution_count": 35,
   "id": "19212322",
   "metadata": {},
   "outputs": [
    {
     "data": {
      "text/plain": [
       "Timestamp('2024-07-19 02:56:24')"
      ]
     },
     "execution_count": 35,
     "metadata": {},
     "output_type": "execute_result"
    }
   ],
   "source": [
    "current_epoch = 1721357784\n",
    "pd.to_datetime(current_epoch, unit='s')"
   ]
  },
  {
   "cell_type": "code",
   "execution_count": 36,
   "id": "6ede2b29",
   "metadata": {},
   "outputs": [
    {
     "data": {
      "text/plain": [
       "Timestamp('2024-07-19 02:56:24')"
      ]
     },
     "execution_count": 36,
     "metadata": {},
     "output_type": "execute_result"
    }
   ],
   "source": [
    "pd.to_datetime(current_epoch*1000, unit='ms')\n",
    "\n",
    "# Multiplying by 1000 which converts the Unix time from seconds to milliseconds."
   ]
  },
  {
   "cell_type": "code",
   "execution_count": 37,
   "id": "423252f9",
   "metadata": {},
   "outputs": [
    {
     "data": {
      "text/plain": [
       "DatetimeIndex(['2024-07-19 02:56:24'], dtype='datetime64[ns]', freq=None)"
      ]
     },
     "execution_count": 37,
     "metadata": {},
     "output_type": "execute_result"
    }
   ],
   "source": [
    "e = pd.to_datetime([current_epoch], unit='s')\n",
    "e"
   ]
  },
  {
   "cell_type": "code",
   "execution_count": 39,
   "id": "bd38f704",
   "metadata": {},
   "outputs": [
    {
     "data": {
      "text/plain": [
       "array([1721357784000000000], dtype=int64)"
      ]
     },
     "execution_count": 39,
     "metadata": {},
     "output_type": "execute_result"
    }
   ],
   "source": [
    "e.view('int64')\n"
   ]
  },
  {
   "cell_type": "code",
   "execution_count": 40,
   "id": "2d952a2d",
   "metadata": {},
   "outputs": [
    {
     "data": {
      "text/plain": [
       "array([-1949701120,   349554344])"
      ]
     },
     "execution_count": 40,
     "metadata": {},
     "output_type": "execute_result"
    }
   ],
   "source": [
    "t.view('int32')\n",
    "\n",
    "#Ouput is truncation or overflow, meaning the original values are not correctly represented in 32-bit space."
   ]
  },
  {
   "cell_type": "code",
   "execution_count": null,
   "id": "af01ba12",
   "metadata": {},
   "outputs": [],
   "source": []
  },
  {
   "cell_type": "code",
   "execution_count": null,
   "id": "65c48f58",
   "metadata": {},
   "outputs": [],
   "source": []
  }
 ],
 "metadata": {
  "kernelspec": {
   "display_name": "Python 3 (ipykernel)",
   "language": "python",
   "name": "python3"
  },
  "language_info": {
   "codemirror_mode": {
    "name": "ipython",
    "version": 3
   },
   "file_extension": ".py",
   "mimetype": "text/x-python",
   "name": "python",
   "nbconvert_exporter": "python",
   "pygments_lexer": "ipython3",
   "version": "3.11.4"
  }
 },
 "nbformat": 4,
 "nbformat_minor": 5
}
